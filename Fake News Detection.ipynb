{
 "cells": [
  {
   "cell_type": "code",
   "execution_count": 16,
   "id": "a9fc1272-9fdf-4531-817d-7719f4b5f86c",
   "metadata": {},
   "outputs": [],
   "source": [
    "import numpy as np\n",
    "import pandas as pd\n",
    "from sklearn.naive_bayes import MultinomialNB\n",
    "from sklearn.feature_extraction.text import CountVectorizer\n",
    "from sklearn.metrics import accuracy_score\n",
    "from sklearn.model_selection import train_test_split"
   ]
  },
  {
   "cell_type": "code",
   "execution_count": 17,
   "id": "e27ac8db-6943-4868-ac18-bb4d6807c00f",
   "metadata": {},
   "outputs": [],
   "source": [
    "true=pd.read_csv(\"True.csv\",low_memory = False)\n",
    "fake=pd.read_csv(\"Fake.csv\",low_memory = False)"
   ]
  },
  {
   "cell_type": "code",
   "execution_count": 18,
   "id": "c014cd41-0a9c-4839-8ea4-a45cdda078d3",
   "metadata": {},
   "outputs": [],
   "source": [
    "true[\"label\"]=1\n",
    "fake[\"label\"]=0"
   ]
  },
  {
   "cell_type": "code",
   "execution_count": 19,
   "id": "e7710737-667e-4147-9060-f6e34b29cadd",
   "metadata": {},
   "outputs": [],
   "source": [
    "data=pd.concat([fake,true],ignore_index=True)"
   ]
  },
  {
   "cell_type": "code",
   "execution_count": 20,
   "id": "853e125c-fa96-438e-9eab-d37aa67919ae",
   "metadata": {},
   "outputs": [],
   "source": [
    "X=data[\"text\"]\n",
    "y=data[\"label\"]"
   ]
  },
  {
   "cell_type": "code",
   "execution_count": 21,
   "id": "09524d40-94af-483b-90a5-674c1344c39b",
   "metadata": {},
   "outputs": [],
   "source": [
    "X_train,X_test,y_train,y_test=train_test_split(X,y,test_size=0.2,random_state=42)"
   ]
  },
  {
   "cell_type": "code",
   "execution_count": 22,
   "id": "a9f5784c-baa9-4540-b1c0-6b4cf6fd8b76",
   "metadata": {},
   "outputs": [
    {
     "name": "stdout",
     "output_type": "stream",
     "text": [
      "0.9520258236865539\n"
     ]
    }
   ],
   "source": [
    "vectorizer=CountVectorizer()\n",
    "X_train_vectors=vectorizer.fit_transform(X_train)\n",
    "X_test_vectors=vectorizer.transform(X_test)\n",
    "X_vectors = vectorizer.fit_transform(data['text'])\n",
    "X_train, X_test, y_train, y_test = train_test_split(X_vectors, data['label'], test_size=0.2, random_state=42)\n",
    "classifier = MultinomialNB()\n",
    "classifier.fit(X_train, y_train)\n",
    "y_pred = classifier.predict(X_test)\n",
    "accuracy = accuracy_score(y_test, y_pred)\n",
    "print(accuracy)"
   ]
  },
  {
   "cell_type": "code",
   "execution_count": 23,
   "id": "36964f7a-65f7-401f-84e3-37e83bf3c801",
   "metadata": {
    "tags": []
   },
   "outputs": [
    {
     "name": "stdout",
     "output_type": "stream",
     "text": [
      "Text: Celebrities secretly funding underground cult\n",
      "Prediction: Fake\n",
      "Text: The Supreme Court on June 19 agreed to urgently hear petitions filed by the West Bengal Government and the State Election Commission against a Calcutta High Court order on June 15 to deploy Central security forces within 48 hours ahead of the panchayat elections in the State.\n",
      "Prediction: True\n"
     ]
    }
   ],
   "source": [
    "new_texts=[\"Celebrities secretly funding underground cult\",\"The Supreme Court on June 19 agreed to urgently hear petitions filed by the West Bengal Government and the State Election Commission against a Calcutta High Court order on June 15 to deploy Central security forces within 48 hours ahead of the panchayat elections in the State.\"]\n",
    "new_texts_vectors = vectorizer.transform(new_texts)\n",
    "predictions = classifier.predict(new_texts_vectors)\n",
    "for text, label in zip(new_texts, predictions):\n",
    "    print(f\"Text: {text}\\nPrediction: {'Fake' if label == 0 else 'True'}\")"
   ]
  },
  {
   "cell_type": "code",
   "execution_count": null,
   "id": "74221bc4-37e1-4d17-81cd-54ec487af128",
   "metadata": {},
   "outputs": [],
   "source": []
  }
 ],
 "metadata": {
  "kernelspec": {
   "display_name": "Python 3 (Intel® oneAPI 2023.1)",
   "language": "python",
   "name": "c009-intel_distribution_of_python_3_oneapi-beta05-python"
  },
  "language_info": {
   "codemirror_mode": {
    "name": "ipython",
    "version": 3
   },
   "file_extension": ".py",
   "mimetype": "text/x-python",
   "name": "python",
   "nbconvert_exporter": "python",
   "pygments_lexer": "ipython3",
   "version": "3.9.16"
  }
 },
 "nbformat": 4,
 "nbformat_minor": 5
}
